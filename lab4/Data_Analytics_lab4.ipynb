{
 "cells": [
  {
   "cell_type": "markdown",
   "metadata": {},
   "source": [
    "# Exercise no. 4\n",
    "In this exercise I am going do create model predicting number of passenger deaths using poisson distribution in two variatns."
   ]
  },
  {
   "cell_type": "code",
   "execution_count": 1,
   "metadata": {},
   "outputs": [],
   "source": [
    "import pystan\n",
    "import stan_utility\n",
    "import arviz as az\n",
    "import numpy as np\n",
    "import scipy.stats as stats\n",
    "import pandas as pd\n",
    "import matplotlib.pyplot as plt\n",
    "import matplotlib as mpl"
   ]
  },
  {
   "cell_type": "code",
   "execution_count": 104,
   "metadata": {},
   "outputs": [
    {
     "data": {
      "text/html": [
       "<div>\n",
       "<style scoped>\n",
       "    .dataframe tbody tr th:only-of-type {\n",
       "        vertical-align: middle;\n",
       "    }\n",
       "\n",
       "    .dataframe tbody tr th {\n",
       "        vertical-align: top;\n",
       "    }\n",
       "\n",
       "    .dataframe thead th {\n",
       "        text-align: right;\n",
       "    }\n",
       "</style>\n",
       "<table border=\"1\" class=\"dataframe\">\n",
       "  <thead>\n",
       "    <tr style=\"text-align: right;\">\n",
       "      <th></th>\n",
       "      <th>Year</th>\n",
       "      <th>Fatal accidents</th>\n",
       "      <th>Passenger deaths</th>\n",
       "      <th>Death rate</th>\n",
       "      <th>Miles flown in 100 mln miles</th>\n",
       "    </tr>\n",
       "  </thead>\n",
       "  <tbody>\n",
       "    <tr>\n",
       "      <th>0</th>\n",
       "      <td>1976</td>\n",
       "      <td>24</td>\n",
       "      <td>734</td>\n",
       "      <td>0.19</td>\n",
       "      <td>3863.0</td>\n",
       "    </tr>\n",
       "    <tr>\n",
       "      <th>1</th>\n",
       "      <td>1977</td>\n",
       "      <td>25</td>\n",
       "      <td>516</td>\n",
       "      <td>0.12</td>\n",
       "      <td>4300.0</td>\n",
       "    </tr>\n",
       "    <tr>\n",
       "      <th>2</th>\n",
       "      <td>1978</td>\n",
       "      <td>31</td>\n",
       "      <td>754</td>\n",
       "      <td>0.15</td>\n",
       "      <td>5027.0</td>\n",
       "    </tr>\n",
       "    <tr>\n",
       "      <th>3</th>\n",
       "      <td>1979</td>\n",
       "      <td>31</td>\n",
       "      <td>877</td>\n",
       "      <td>0.16</td>\n",
       "      <td>5481.0</td>\n",
       "    </tr>\n",
       "    <tr>\n",
       "      <th>4</th>\n",
       "      <td>1980</td>\n",
       "      <td>22</td>\n",
       "      <td>814</td>\n",
       "      <td>0.14</td>\n",
       "      <td>5814.0</td>\n",
       "    </tr>\n",
       "    <tr>\n",
       "      <th>5</th>\n",
       "      <td>1981</td>\n",
       "      <td>21</td>\n",
       "      <td>362</td>\n",
       "      <td>0.06</td>\n",
       "      <td>6033.0</td>\n",
       "    </tr>\n",
       "    <tr>\n",
       "      <th>6</th>\n",
       "      <td>1982</td>\n",
       "      <td>26</td>\n",
       "      <td>764</td>\n",
       "      <td>0.13</td>\n",
       "      <td>5877.0</td>\n",
       "    </tr>\n",
       "    <tr>\n",
       "      <th>7</th>\n",
       "      <td>1983</td>\n",
       "      <td>20</td>\n",
       "      <td>809</td>\n",
       "      <td>0.13</td>\n",
       "      <td>6223.0</td>\n",
       "    </tr>\n",
       "    <tr>\n",
       "      <th>8</th>\n",
       "      <td>1984</td>\n",
       "      <td>16</td>\n",
       "      <td>223</td>\n",
       "      <td>0.03</td>\n",
       "      <td>7433.0</td>\n",
       "    </tr>\n",
       "    <tr>\n",
       "      <th>9</th>\n",
       "      <td>1985</td>\n",
       "      <td>22</td>\n",
       "      <td>1066</td>\n",
       "      <td>0.15</td>\n",
       "      <td>7107.0</td>\n",
       "    </tr>\n",
       "  </tbody>\n",
       "</table>\n",
       "</div>"
      ],
      "text/plain": [
       "   Year  Fatal accidents  Passenger deaths  Death rate  \\\n",
       "0  1976               24               734        0.19   \n",
       "1  1977               25               516        0.12   \n",
       "2  1978               31               754        0.15   \n",
       "3  1979               31               877        0.16   \n",
       "4  1980               22               814        0.14   \n",
       "5  1981               21               362        0.06   \n",
       "6  1982               26               764        0.13   \n",
       "7  1983               20               809        0.13   \n",
       "8  1984               16               223        0.03   \n",
       "9  1985               22              1066        0.15   \n",
       "\n",
       "   Miles flown in 100 mln miles  \n",
       "0                        3863.0  \n",
       "1                        4300.0  \n",
       "2                        5027.0  \n",
       "3                        5481.0  \n",
       "4                        5814.0  \n",
       "5                        6033.0  \n",
       "6                        5877.0  \n",
       "7                        6223.0  \n",
       "8                        7433.0  \n",
       "9                        7107.0  "
      ]
     },
     "execution_count": 104,
     "metadata": {},
     "output_type": "execute_result"
    }
   ],
   "source": [
    "data = pd.read_csv(\"input.csv\", sep = ';')\n",
    "\n",
    "## generation of vector for plotting samples under histograms\n",
    "dths=[]\n",
    "dths_cnt=[]\n",
    "for k in data['Passenger deaths']:  \n",
    "    dths_cnt.append(-(1.+dths.count(k)))\n",
    "    dths.append(k)\n",
    "dths_cnt=np.array(dths_cnt)\n",
    "\n",
    "data"
   ]
  },
  {
   "cell_type": "markdown",
   "metadata": {},
   "source": [
    "# Task no. 1\n",
    "In this task I assume that rate ($\\lambda$) is constant for all years and independent on either year or miles flown.\n",
    "I also assume that number of passengers deaths ($y_i$) has Poisson distribution:\n",
    "$$y_i\\sim\\mathrm{Poisson}(\\lambda)$$\n",
    "\n",
    "For this task I need to assume that 10 people dying every day has very low probability (10*365=3650). Knowing that for poisson distribution $\\lambda$ is mean and $\\sqrt{\\lambda}$ is standard deviation the following equasion have to be met:\n",
    "$$\\lambda+3\\sqrt{\\lambda}\\approx3650$$\n",
    "which means that probability is less than 1%."
   ]
  },
  {
   "cell_type": "code",
   "execution_count": 5,
   "metadata": {},
   "outputs": [
    {
     "name": "stdout",
     "output_type": "stream",
     "text": [
      "Calculated root: \n",
      "[3473.]\n"
     ]
    }
   ],
   "source": [
    "root_of_lam=np.polynomial.polynomial.polyroots([-3650.,3.,1.])\n",
    "lam_ub=np.round(root_of_lam[root_of_lam>0]**2)\n",
    "print(\"Calculated root: \")\n",
    "print(lam_ub)"
   ]
  },
  {
   "cell_type": "markdown",
   "metadata": {},
   "source": [
    "Using stan and algebra solver I want to find parameter ($\\sigma$) of HalfNormal distributions that will fullify conditions I expect. "
   ]
  },
  {
   "cell_type": "code",
   "execution_count": 6,
   "metadata": {},
   "outputs": [
    {
     "name": "stdout",
     "output_type": "stream",
     "text": [
      "functions {\n",
      "  vector tail_delta(vector y, vector theta, real[] x_r, int[] x_i) {\n",
      "    vector[1] deltas;\n",
      "    deltas[1] = 2 * (normal_cdf(theta[1], 0, exp(y[1])) - 0.5) - 0.99;\n",
      "    return deltas;\n",
      "  }\n",
      "}\n",
      "\n",
      "data {\n",
      "  vector[1] y_guess;\n",
      "  vector[1] theta;\n",
      "}\n",
      "\n",
      "transformed data {\n",
      "  vector[1] y;\n",
      "  real x_r[0];\n",
      "  int x_i[0];\n",
      "  y = algebra_solver(tail_delta, y_guess, theta, x_r, x_i);\n",
      "  print(\"Standard deviation = \", exp(y[1]));\n",
      "}\n",
      "\n",
      "generated quantities {\n",
      "  real sigma = exp(y[1]);\n",
      "}\n",
      "\n",
      "//source: https://github.com/KAIR-ISZ\n"
     ]
    }
   ],
   "source": [
    "with open('prior_HN.stan', 'r') as file:\n",
    "    print(file.read())"
   ]
  },
  {
   "cell_type": "code",
   "execution_count": 7,
   "metadata": {},
   "outputs": [
    {
     "name": "stderr",
     "output_type": "stream",
     "text": [
      "INFO:pystan:COMPILING THE C++ CODE FOR MODEL anon_model_b6ead991048da3250044766caa603606 NOW.\n"
     ]
    },
    {
     "name": "stdout",
     "output_type": "stream",
     "text": [
      "Calculated sigma parameter value: \n",
      "1348.0\n"
     ]
    }
   ],
   "source": [
    "HN_model=stan_utility.compile_model('prior_HN.stan')\n",
    "data=dict(y_guess=np.array([np.log(1000)]),theta=np.array(lam_ub))\n",
    "HN_model_sampled = HN_model.sampling(data=data,\n",
    "                          seed=1052020,\n",
    "                          algorithm=\"Fixed_param\",\n",
    "                          iter=1, \n",
    "                          warmup=0,\n",
    "                          chains=1)\n",
    "sigma = np.round(HN_model_sampled.extract()['sigma'][0])\n",
    "print(\"Calculated sigma parameter value: \")\n",
    "print(sigma)"
   ]
  },
  {
   "cell_type": "markdown",
   "metadata": {},
   "source": [
    "Using calculated sigma value I'm drawing plot."
   ]
  },
  {
   "cell_type": "code",
   "execution_count": 8,
   "metadata": {},
   "outputs": [
    {
     "data": {
      "image/png": "[encoded data removed]",
      "text/plain": [
       "<Figure size 648x360 with 1 Axes>"
      ]
     },
     "metadata": {
      "needs_background": "light"
     },
     "output_type": "display_data"
    }
   ],
   "source": [
    "fig, ax2 = plt.subplots(1, 1,figsize=(9, 5))\n",
    "x2=np.linspace(0,3*sigma,1000)\n",
    "x4=np.linspace(0,lam_ub[0],1000)\n",
    "ax2.plot(x2,2*stats.norm.pdf(x2,scale=sigma),color='blue',linewidth=2)\n",
    "ax2.fill_between(x4,2*stats.norm.pdf(x4,scale=sigma),0)\n",
    "ax2.set_yticks([])\n",
    "ax2.set_xticks([0,lam_ub[0]])\n",
    "ax2.set_title(r'$\\lambda$')\n",
    "plt.show()"
   ]
  },
  {
   "cell_type": "markdown",
   "metadata": {},
   "source": [
    "Nom I'm going to use stan for simulating outputs basing only on input data - from previous years."
   ]
  },
  {
   "cell_type": "code",
   "execution_count": 19,
   "metadata": {},
   "outputs": [
    {
     "name": "stdout",
     "output_type": "stream",
     "text": [
      "data {\n",
      "  int M;\n",
      "}\n",
      "\n",
      "generated quantities {\n",
      "  real lambda=fabs(normal_rng(0,1348));\n",
      "  int y_sim[M];\n",
      "  for (k in 1:M) {\n",
      "    y_sim[k] = poisson_rng(lambda);\n",
      "  }\n",
      "}\n",
      "\n",
      "//source: https://github.com/KAIR-ISZ\n"
     ]
    }
   ],
   "source": [
    "with open('prior_pred.stan', 'r') as file:\n",
    "    print(file.read())"
   ]
  },
  {
   "cell_type": "code",
   "execution_count": 20,
   "metadata": {},
   "outputs": [
    {
     "name": "stderr",
     "output_type": "stream",
     "text": [
      "INFO:pystan:COMPILING THE C++ CODE FOR MODEL anon_model_ce8674f17349b6eaa5837042c9dc7b6d NOW.\n"
     ]
    }
   ],
   "source": [
    "pred_model=stan_utility.compile_model('prior_pred.stan')\n",
    "R=1000\n",
    "pred_model_sampled=pred_model.sampling(data={'M':1},\n",
    "                            algorithm=\"Fixed_param\",\n",
    "                            iter=R,\n",
    "                            warmup=0,\n",
    "                            chains=1, \n",
    "                            refresh=R,\n",
    "                            seed=29042020)\n",
    "params=pred_model_sampled.extract()\n",
    "theta=params['lambda']\n",
    "y_sim=params['y_sim']"
   ]
  },
  {
   "cell_type": "markdown",
   "metadata": {},
   "source": [
    "Using caluculated values I'm drawing 2 plots - histogram of lambda with HalfNormal line basing on sigma and histogram of predicted deaths."
   ]
  },
  {
   "cell_type": "code",
   "execution_count": 33,
   "metadata": {},
   "outputs": [
    {
     "data": {
      "image/png": "[encoded data removed]",
      "text/plain": [
       "<Figure size 648x720 with 2 Axes>"
      ]
     },
     "metadata": {
      "needs_background": "light"
     },
     "output_type": "display_data"
    }
   ],
   "source": [
    "fig, axes = plt.subplots(2, 1,figsize=(9, 10))\n",
    "ax1=axes[0]\n",
    "ax1.hist(theta,bins=20,density=True)\n",
    "x=np.linspace(0,4500,2000)\n",
    "ax1.set_xticks([0,lam_ub[0]])\n",
    "ax1.set_yticks([])\n",
    "ax1.set_title(r'$\\lambda$')\n",
    "ax1.plot(x,2*stats.norm.pdf(x,0,sigma),color='black',linestyle='--')\n",
    "arr_y_loc = 2*stats.norm.pdf(150,0,sigma)\n",
    "ax1.annotate('HalfNormal(0,'+str(np.int(sigma))+')',xy=(150,arr_y_loc),xytext=(200,1.5*arr_y_loc),arrowprops={'arrowstyle':'->'})\n",
    "ax2=axes[1]\n",
    "ax2.hist(y_sim.flatten(),density=True,bins=20,zorder=1)\n",
    "ax2.scatter(dths,0.0002*dta_cnt,color='black',marker='.',zorder=2)\n",
    "ax2.set_xticks([0,3650])\n",
    "ax2.set_yticks([])\n",
    "\n",
    "ax2.set_title('No. of accidents')\n",
    "plt.show()"
   ]
  },
  {
   "cell_type": "markdown",
   "metadata": {},
   "source": [
    "Now, I will do posterior predicitive checks and inference."
   ]
  },
  {
   "cell_type": "code",
   "execution_count": 38,
   "metadata": {},
   "outputs": [
    {
     "name": "stdout",
     "output_type": "stream",
     "text": [
      "data {\n",
      "  int M;\n",
      "  int y[M];\n",
      "}\n",
      "parameters {\n",
      "  real<lower=0>lambda;\n",
      "}\n",
      "model {\n",
      "  lambda ~ normal(0,121);\n",
      "  for (k in 1:M) {\n",
      "    y[k] ~ poisson(lambda);\n",
      "  }\n",
      "}\n",
      "generated quantities {\n",
      "  int y_sim[M];\n",
      "  for (k in 1:M) {\n",
      "    y_sim[k] = poisson_rng(lambda);\n",
      "  }\n",
      "}\n",
      "\n",
      "//source: https://github.com/KAIR-ISZ\n"
     ]
    }
   ],
   "source": [
    "with open('checks_const.stan', 'r') as file:\n",
    "    print(file.read())"
   ]
  },
  {
   "cell_type": "code",
   "execution_count": 43,
   "metadata": {},
   "outputs": [
    {
     "name": "stdout",
     "output_type": "stream",
     "text": [
      "Using cached StanModel\n"
     ]
    }
   ],
   "source": [
    "m_post=stan_utility.compile_model('checks_const.stan')\n",
    "data = dict(M = len(data),\n",
    "            y = data['Passenger deaths'])\n",
    "fit = m_post.sampling(data=data, seed=8052020)\n",
    "\n",
    "params=fit.extract()\n",
    "lam=params['lambda']\n",
    "y_sim=params['y_sim']"
   ]
  },
  {
   "cell_type": "code",
   "execution_count": 45,
   "metadata": {},
   "outputs": [
    {
     "name": "stdout",
     "output_type": "stream",
     "text": [
      "Mean lambda : 688.80\n",
      "89% confidence interval: [ 671.97 704.65 ]\n"
     ]
    }
   ],
   "source": [
    "mean_lam = np.mean(lam)\n",
    "cinf_lam = az.hpd(lam,0.95)\n",
    "hpd_width=cinf_lam[1]-cinf_lam[0]\n",
    "\n",
    "print('Mean lambda : {:4.2f}'.format(mean_lam))\n",
    "print('89% confidence interval: [',*['{:4.2f}'.format(k) for k in cinf_lam],']')"
   ]
  },
  {
   "cell_type": "code",
   "execution_count": 50,
   "metadata": {},
   "outputs": [
    {
     "data": {
      "image/png": "[encoded data removed]",
      "text/plain": [
       "<Figure size 648x360 with 3 Axes>"
      ]
     },
     "metadata": {
      "needs_background": "light"
     },
     "output_type": "display_data"
    }
   ],
   "source": [
    "fig, axes = plt.subplots(2, 1,figsize=(9, 5))\n",
    "ax1=axes[0]\n",
    "ax1.hist(lam,bins=20,density=True)\n",
    "x=np.linspace(0,4500,100)\n",
    "\n",
    "ax1.plot(x,2*stats.norm.pdf(x,0,sigma),color='black',linestyle='--')\n",
    "arr_y_loc = 2*stats.norm.pdf(50,0,sigma)\n",
    "ax1.annotate('Prior',xy=(50,arr_y_loc),xytext=(100,10*arr_y_loc),arrowprops={'arrowstyle':'->'})\n",
    "ax1.set_xticks([0,lam_ub[0]])\n",
    "\n",
    "ax1.set_yticks([])\n",
    "ax1.set_title(r'$\\lambda$')\n",
    "\n",
    "ax_sm=plt.axes([0.5,0.6,0.35,0.2])\n",
    "x_sm=np.linspace(cinf_lam[0]-hpd_width,cinf_lam[1]+hpd_width,200)\n",
    "ax_sm.hist(lam,bins=20,density=True)\n",
    "ax_sm.plot(x_sm,2*stats.norm.pdf(x_sm,0,sigma),color='black',linestyle='--')\n",
    "ax_sm.annotate(s='', xy=(cinf_lam[0]-.2,0.2), xytext=(cinf_lam[1]+.2,0.2), arrowprops=dict(arrowstyle='<->'))\n",
    "ax_sm.plot([cinf_lam[0],cinf_lam[0]],[0,0.3],color='black',linestyle='-',linewidth=0.5)\n",
    "ax_sm.plot([cinf_lam[1],cinf_lam[1]],[0,0.3],color='black',linestyle='-',linewidth=0.5)\n",
    "\n",
    "ax_sm.set_xticks(np.round([cinf_lam[0],cinf_lam[1]],2))\n",
    "ax_sm.set_yticks([])\n",
    "ax_sm.set_title(r'$\\lambda$ HPD')\n",
    "\n",
    "\n",
    "ax2=axes[1]\n",
    "ax2.hist(y_sim.flatten(),density=True,bins=20,zorder=1)\n",
    "ax2.scatter(dths,0.002*dths_cnt,color='black',marker='.',zorder=2)\n",
    "ax2.set_xticks([0,np.max(y_sim)])\n",
    "ax2.set_yticks([])\n",
    "\n",
    "ax2.set_title('No. of paseengers deaths')\n",
    "plt.show()"
   ]
  },
  {
   "cell_type": "markdown",
   "metadata": {},
   "source": [
    "Finally, I will predict number of deaths with created model, knowing that, there were 546 of them in 1986."
   ]
  },
  {
   "cell_type": "code",
   "execution_count": 51,
   "metadata": {},
   "outputs": [
    {
     "name": "stdout",
     "output_type": "stream",
     "text": [
      "Median of predicted deaths = 688.0\n",
      "Confidence interval = [ 634.0 741.0 ]\n"
     ]
    }
   ],
   "source": [
    "median_y_sim = np.median(y_sim.flatten())\n",
    "cinf_y_sim = az.hpd(y_sim.flatten(),0.95)\n",
    "\n",
    "print('Median of predicted deaths =',median_y_sim)\n",
    "print('Confidence interval = [',*cinf_y_sim,']')"
   ]
  },
  {
   "cell_type": "markdown",
   "metadata": {},
   "source": [
    "As can be seen - model has predicted close but higher value."
   ]
  },
  {
   "cell_type": "markdown",
   "metadata": {},
   "source": [
    "# Task no. 2\n",
    "In this task I assume that intensity ($\\theta$) is constand but rate ($\\lambda$) is product of intensity and miles flown ($\\bar{n}$). I also assume that number of passengers deaths ($y_i$) has Poisson distribution:\n",
    "$$y_i\\sim\\mathrm{Poisson}(\\lambda)$$\n",
    " \n",
    "For this task I need to assume that 10 people dying every day has very low probability (10*365=3650). This time we assume that $\\lambda=\\theta\\cdot\\bar{n}$. This gives us condition\n",
    "$$\\theta\\cdot\\bar{n}+3\\sqrt{\\theta\\cdot\\bar{n}}\\approx3650$$\n",
    " \n",
    "which means that probability is less than 1%."
   ]
  },
  {
   "cell_type": "code",
   "execution_count": 75,
   "metadata": {},
   "outputs": [
    {
     "name": "stdout",
     "output_type": "stream",
     "text": [
      "theta upper bound 0.608\n",
      "Calculated sigma: \n",
      "sigma = 0.236\n"
     ]
    }
   ],
   "source": [
    "mean_miles=np.mean(data['Miles flown in 100 mln miles'])\n",
    "root_of_theta=np.polynomial.polynomial.polyroots([-3650/mean_miles,3./np.sqrt(mean_miles),1.])\n",
    "theta_ub=(root_of_theta[root_of_lam>0]**2)\n",
    "print('theta upper bound','{:4.3f}'.format(theta_ub[0]))\n",
    "\n",
    "data=dict(y_guess=np.array([np.log(0.1)]),theta=np.array(theta_ub))\n",
    "HN_model_sampled = HN_model.sampling(data=data,\n",
    "                          seed=1052020,\n",
    "                          algorithm=\"Fixed_param\",\n",
    "                          iter=1, \n",
    "                          warmup=0,\n",
    "                          chains=1)\n",
    "sigma = (HN_model_sampled.extract()['sigma'][0])\n",
    "print('Calculated sigma: ')\n",
    "print('sigma =','{:4.3f}'.format(sigma))"
   ]
  },
  {
   "cell_type": "code",
   "execution_count": 76,
   "metadata": {},
   "outputs": [
    {
     "data": {
      "image/png": "[encoded data removed]",
      "text/plain": [
       "<Figure size 648x360 with 1 Axes>"
      ]
     },
     "metadata": {
      "needs_background": "light"
     },
     "output_type": "display_data"
    }
   ],
   "source": [
    "fig, ax2 = plt.subplots(1, 1,figsize=(9, 5))\n",
    "x2=np.linspace(0,3*sigma,1000)\n",
    "x4=np.linspace(0,theta_ub[0],1000)\n",
    "ax2.plot(x2,2*stats.norm.pdf(x2,scale=sigma),linewidth=2)\n",
    "ax2.fill_between(x4,2*stats.norm.pdf(x4,scale=sigma),0)\n",
    "ax2.set_yticks([])\n",
    "ax2.set_xticks([0,theta_ub[0]])\n",
    "ax2.set_title(r'$\\theta$')\n",
    "plt.show()"
   ]
  },
  {
   "cell_type": "markdown",
   "metadata": {},
   "source": [
    "Now, I will simulate outputs with stan using only prior data."
   ]
  },
  {
   "cell_type": "code",
   "execution_count": 77,
   "metadata": {},
   "outputs": [
    {
     "name": "stdout",
     "output_type": "stream",
     "text": [
      "data {\n",
      "  int M;\n",
      "  vector[M] miles;\n",
      "}\n",
      "generated quantities {\n",
      "  real theta=fabs(normal_rng(0,0.236));\n",
      "  int y_sim[M];\n",
      "  for (k in 1:M) {\n",
      "    y_sim[k] = poisson_rng(theta*miles[k]);\n",
      "  }\n",
      "}\n",
      "\n",
      "//source: https://github.com/KAIR-ISZ\n"
     ]
    }
   ],
   "source": [
    "with open('prior_distance.stan', 'r') as file:\n",
    "    print(file.read())"
   ]
  },
  {
   "cell_type": "code",
   "execution_count": 83,
   "metadata": {},
   "outputs": [
    {
     "name": "stdout",
     "output_type": "stream",
     "text": [
      "Using cached StanModel\n"
     ]
    }
   ],
   "source": [
    "model_prior=stan_utility.compile_model('prior_distance.stan')\n",
    "R=1000\n",
    "data_prior=dict(M=len(data),miles=data['Miles flown in 100 mln miles'].to_numpy())\n",
    "sim_uf=model_prior.sampling(data=data_prior,algorithm=\"Fixed_param\", iter=R, warmup=0, chains=1, refresh=R,seed=29042020)"
   ]
  },
  {
   "cell_type": "code",
   "execution_count": 84,
   "metadata": {},
   "outputs": [
    {
     "data": {
      "image/png": "[encoded data removed]",
      "text/plain": [
       "<Figure size 648x288 with 1 Axes>"
      ]
     },
     "metadata": {
      "needs_background": "light"
     },
     "output_type": "display_data"
    }
   ],
   "source": [
    "params=sim_uf.extract()\n",
    "theta=params['theta']\n",
    "\n",
    "fig, axes = plt.subplots(1, 1,figsize=(9, 4))\n",
    "ax1=axes\n",
    "ax1.hist(theta,bins=20,density=True)\n",
    "x=np.linspace(0,1.2*theta_ub[0],2000)\n",
    "ax1.set_xticks([0,theta_ub[0]])\n",
    "ax1.set_xticklabels([0,np.round(theta_ub[0],3)])\n",
    "ax1.set_yticks([])\n",
    "ax1.set_title(r'$\\theta$')\n",
    "ax1.plot(x,2*stats.norm.pdf(x,0,sigma),color='black',linestyle='--')\n",
    "arr_y_loc = 2*stats.norm.pdf(0.025,0,sigma)\n",
    "ax1.annotate('HalfNormal(0,'+'{:4.3f}'.format(sigma)+')',xy=(0.025,arr_y_loc),xytext=(0.04,1.5*arr_y_loc),arrowprops={'arrowstyle':'->'})\n",
    "plt.show()"
   ]
  },
  {
   "cell_type": "code",
   "execution_count": 88,
   "metadata": {},
   "outputs": [
    {
     "data": {
      "image/png": "[encoded data removed]",
      "text/plain": [
       "<Figure size 648x720 with 10 Axes>"
      ]
     },
     "metadata": {
      "needs_background": "light"
     },
     "output_type": "display_data"
    }
   ],
   "source": [
    "y_sim=params['y_sim']\n",
    "fig, axes = plt.subplots(5, 2, figsize=(9, 10), sharey=True,squeeze=False)\n",
    "axes_flat=axes.flatten()\n",
    "for k in range(len(axes_flat)):\n",
    "    ax = axes_flat[k]\n",
    "    ax.hist(y_sim[:,k],bins=20,density=True)\n",
    "    ax.set_title(data['Year'][k])\n",
    "    tv=data['Passenger deaths'].iloc[k]\n",
    "    ax.plot([tv,tv],[0,0.0009],linestyle='--',color='black')\n",
    "    ax.set_yticks([])\n",
    "    ax.set_xticks([0,tv,3650])\n",
    "    ax.set_xticklabels(['',tv,3650])\n",
    "\n",
    "fig.tight_layout()\n",
    "\n",
    "plt.show()"
   ]
  },
  {
   "cell_type": "markdown",
   "metadata": {},
   "source": [
    "As before I will do posterior predicitive checks and inference."
   ]
  },
  {
   "cell_type": "code",
   "execution_count": 89,
   "metadata": {},
   "outputs": [
    {
     "name": "stdout",
     "output_type": "stream",
     "text": [
      "data {\n",
      "  int M;\n",
      "  vector[M] miles;\n",
      "  int y[M];\n",
      "}\n",
      "parameters {\n",
      "  real<lower=0>theta;\n",
      "}\n",
      "model {\n",
      "  theta ~ normal(0,0.021);\n",
      "  for (k in 1:M) {\n",
      "    y[k] ~ poisson(miles[k]*theta);\n",
      "  }\n",
      "}\n",
      "generated quantities {\n",
      "  int y_sim[M];\n",
      "  for (k in 1:M) {\n",
      "    y_sim[k] = poisson_rng(miles[k]*theta);\n",
      "  }\n",
      "}\n"
     ]
    }
   ],
   "source": [
    "with open('checks_distance.stan', 'r') as file:\n",
    "    print(file.read())"
   ]
  },
  {
   "cell_type": "code",
   "execution_count": 92,
   "metadata": {},
   "outputs": [
    {
     "name": "stdout",
     "output_type": "stream",
     "text": [
      "Using cached StanModel\n"
     ]
    }
   ],
   "source": [
    "model_miles=stan_utility.compile_model('checks_distance.stan')\n",
    "data = dict(M = len(data),\n",
    "            miles = data['Miles flown in 100 mln miles'],\n",
    "            y = data['Passenger deaths'])\n",
    "fit = model_miles.sampling(data=data, seed=8052020)\n",
    "\n",
    "params_miles=fit.extract()\n",
    "theta=params_miles['theta']\n",
    "y_sim=params_miles['y_sim']"
   ]
  },
  {
   "cell_type": "code",
   "execution_count": 93,
   "metadata": {},
   "outputs": [
    {
     "name": "stdout",
     "output_type": "stream",
     "text": [
      "Mean theta : 0.1205\n",
      "95% confidence interval: [ 0.1178 0.1233 ]\n"
     ]
    }
   ],
   "source": [
    "mean_theta = np.mean(theta)\n",
    "cinf_theta = az.hpd(theta,0.95)\n",
    "hpd_width=cinf_theta[1]-cinf_theta[0]\n",
    "\n",
    "\n",
    "print('Mean theta : {:5.4f}'.format(mean_theta))\n",
    "print('95% confidence interval: [',*['{:5.4f}'.format(k) for k in cinf_theta],']')"
   ]
  },
  {
   "cell_type": "code",
   "execution_count": 94,
   "metadata": {},
   "outputs": [
    {
     "data": {
      "image/png": "[encoded data removed]",
      "text/plain": [
       "<Figure size 648x360 with 2 Axes>"
      ]
     },
     "metadata": {
      "needs_background": "light"
     },
     "output_type": "display_data"
    }
   ],
   "source": [
    "fig, axes = plt.subplots(1, 1,figsize=(9, 5))\n",
    "ax1=axes\n",
    "ax1.hist(theta,bins=20,density=True)\n",
    "x=np.linspace(0,1.2*theta_ub[0],5000)\n",
    "ax1.set_xticks([0,theta_ub[0]])\n",
    "ax1.set_xticklabels([0,np.round(theta_ub[0],3)])\n",
    "ax1.set_yticks([])\n",
    "ax1.set_title(r'$\\theta$')\n",
    "ax1.plot(x,2*stats.norm.pdf(x,0,sigma),color='black',linestyle='--')\n",
    "arr_y_loc = 2*stats.norm.pdf(0.001,0,sigma)\n",
    "ax1.annotate('Prior',xy=(0.001,arr_y_loc),xytext=(0.0015,10*arr_y_loc),arrowprops={'arrowstyle':'->'})\n",
    "\n",
    "ax_sm=plt.axes([0.5,0.3,0.35,0.4])\n",
    "x_sm=np.linspace(cinf_theta[0]-hpd_width,cinf_theta[1]+hpd_width,200)\n",
    "ax_sm.hist(theta,bins=20,density=True)\n",
    "ax_sm.plot(x_sm,2*stats.norm.pdf(x_sm,0,sigma),color='black',linestyle='--')\n",
    "ax_sm.annotate(s='', xy=(0.99*cinf_theta[0],1000), xytext=(1.01*cinf_theta[1],1000), arrowprops=dict(arrowstyle='<->'))\n",
    "ax_sm.plot([cinf_theta[0],cinf_theta[0]],[0,1600],color='black',linestyle='-',linewidth=0.5)\n",
    "ax_sm.plot([cinf_theta[1],cinf_theta[1]],[0,1600],color='black',linestyle='-',linewidth=0.5)\n",
    "\n",
    "ax_sm.set_xticks(([cinf_theta[0],cinf_theta[1]]))\n",
    "ax_sm.set_xticklabels(np.round([cinf_theta[0],cinf_theta[1]],4))\n",
    "\n",
    "ax_sm.set_yticks([])\n",
    "ax_sm.set_title(r'$\\theta$ HPD')\n",
    "\n",
    "plt.show()"
   ]
  },
  {
   "cell_type": "code",
   "execution_count": 97,
   "metadata": {},
   "outputs": [
    {
     "data": {
      "image/png": "[encoded data removed]",
      "text/plain": [
       "<Figure size 504x576 with 10 Axes>"
      ]
     },
     "metadata": {
      "needs_background": "light"
     },
     "output_type": "display_data"
    }
   ],
   "source": [
    "y_sim=params_miles['y_sim']\n",
    "fig, axes = plt.subplots(5, 2, figsize=(7, 8), sharey=True,squeeze=False)\n",
    "axes_flat=axes.flatten()\n",
    "for k in range(len(axes_flat)):\n",
    "    ax = axes_flat[k]\n",
    "    ax.hist(y_sim[:,k],bins=20,density=True)\n",
    "    ax.set_title(data['Year'][k])\n",
    "    tv=data['Passenger deaths'].iloc[k]\n",
    "    ax.plot([tv,tv],[0,0.02],linestyle='--',color='black')\n",
    "    ax.set_yticks([])\n",
    "\n",
    "fig.tight_layout()\n",
    "plt.show()"
   ]
  },
  {
   "cell_type": "markdown",
   "metadata": {},
   "source": [
    "Finally, I will try to predict number of deaths in 1986. This time it is slightly more complicated as it requires modifying generated quantities block. There were 546 death and 0.06 death per 100 000 000 miles flown in 1986."
   ]
  },
  {
   "cell_type": "code",
   "execution_count": 98,
   "metadata": {},
   "outputs": [
    {
     "name": "stdout",
     "output_type": "stream",
     "text": [
      "9100.0\n"
     ]
    }
   ],
   "source": [
    "miles1986=546/0.06\n",
    "print(np.round(miles1986))"
   ]
  },
  {
   "cell_type": "code",
   "execution_count": 100,
   "metadata": {},
   "outputs": [
    {
     "name": "stdout",
     "output_type": "stream",
     "text": [
      "data {\n",
      "  int M;\n",
      "  vector[M] miles;\n",
      "  int y[M];\n",
      "}\n",
      "parameters {\n",
      "  real<lower=0>theta;\n",
      "}\n",
      "model {\n",
      "  theta ~ normal(0,0.236);\n",
      "  for (k in 1:M) {\n",
      "    y[k] ~ poisson(miles[k]*theta);\n",
      "  }\n",
      "}\n",
      "generated quantities {\n",
      "  int y_1986 = poisson_rng(9100*theta);\n",
      "}\n"
     ]
    }
   ],
   "source": [
    "with open('prior_pred_distance.stan', 'r') as file:\n",
    "    print(file.read())"
   ]
  },
  {
   "cell_type": "code",
   "execution_count": 105,
   "metadata": {},
   "outputs": [
    {
     "name": "stdout",
     "output_type": "stream",
     "text": [
      "Using cached StanModel\n",
      "Median of predicted deaths = 1102.0\n",
      "Confidence interval = [ 1036.0 1169.0 ]\n"
     ]
    }
   ],
   "source": [
    "model1986=stan_utility.compile_model('prior_pred_distance.stan')\n",
    "\n",
    "data = dict(M = len(data),\n",
    "            miles = data['Miles flown in 100 mln miles'],\n",
    "            y = data['Passenger deaths'])\n",
    "fit1986 = model1986.sampling(data=data, seed=8052020)\n",
    "y_1986=fit1986.extract()['y_1986']\n",
    "\n",
    "median_y_1986 = np.median(y_1986)\n",
    "cinf_y_1986 = az.hpd(y_1986,0.95)\n",
    "\n",
    "print('Median of predicted deaths =',median_y_1986)\n",
    "print('Confidence interval = [',*cinf_y_1986,']')"
   ]
  },
  {
   "cell_type": "markdown",
   "metadata": {},
   "source": [
    "As can be seen - even though I have taken more data into consideration, result is worse than the one received in task no. 1. This time over two times bigger value has been predicted."
   ]
  },
  {
   "cell_type": "code",
   "execution_count": null,
   "metadata": {},
   "outputs": [],
   "source": []
  }
 ],
 "metadata": {
  "kernelspec": {
   "display_name": "Python 3",
   "language": "python",
   "name": "python3"
  },
  "language_info": {
   "codemirror_mode": {
    "name": "ipython",
    "version": 3
   },
   "file_extension": ".py",
   "mimetype": "text/x-python",
   "name": "python",
   "nbconvert_exporter": "python",
   "pygments_lexer": "ipython3",
   "version": "3.7.6"
  }
 },
 "nbformat": 4,
 "nbformat_minor": 4
}
